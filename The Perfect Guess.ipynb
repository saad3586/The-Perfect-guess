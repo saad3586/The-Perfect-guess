{
 "cells": [
  {
   "cell_type": "code",
   "execution_count": null,
   "metadata": {},
   "outputs": [
    {
     "name": "stdout",
     "output_type": "stream",
     "text": [
      "97\n",
      "Enter your Guess:66\n",
      "You guessed it wrong ! enter a large number\n",
      "Enter your Guess:43\n",
      "You guessed it wrong ! enter a large number\n",
      "Enter your Guess:3333\n",
      "You guessed it wrong ! enter a smaller number\n",
      "Enter your Guess:233\n",
      "You guessed it wrong ! enter a smaller number\n",
      "Enter your Guess:332\n",
      "You guessed it wrong ! enter a smaller number\n",
      "Enter your Guess:22\n",
      "You guessed it wrong ! enter a large number\n"
     ]
    }
   ],
   "source": [
    "# We are going to write a program that genetates a random number and asks the user to guess it.\n",
    "import random\n",
    "randNumber = random.randint(1,100)\n",
    "print(randNumber)\n",
    "userGuess = None\n",
    "guesses = 0\n",
    "\n",
    "\n",
    "while(userGuess != randNumber):\n",
    "    userGuess = int(input(\"Enter your Guess:\"))\n",
    "    guesses += 1\n",
    "    if(userGuess == randNumber):\n",
    "        print(\"You guessed it right! \")\n",
    "    else:\n",
    "        if(userGuess>randNumber):\n",
    "            print(\"You guessed it wrong ! enter a smaller number\")\n",
    "            \n",
    "        else:\n",
    "            print(\"You guessed it wrong ! enter a large number\")       \n",
    "print(f\"You guessed the number in {guesses} guesses\")\n",
    "with open(\"hiscore.txt\", 'r'):\n",
    "    hiscore = int(f.read())\n",
    "    \n",
    "with open(\"hiscore.txt\", \"w\") as f:\n",
    "    f.write(guesses)\n"
   ]
  },
  {
   "cell_type": "code",
   "execution_count": null,
   "metadata": {},
   "outputs": [],
   "source": []
  },
  {
   "cell_type": "code",
   "execution_count": null,
   "metadata": {},
   "outputs": [],
   "source": []
  }
 ],
 "metadata": {
  "kernelspec": {
   "display_name": "Python 3",
   "language": "python",
   "name": "python3"
  },
  "language_info": {
   "codemirror_mode": {
    "name": "ipython",
    "version": 3
   },
   "file_extension": ".py",
   "mimetype": "text/x-python",
   "name": "python",
   "nbconvert_exporter": "python",
   "pygments_lexer": "ipython3",
   "version": "3.7.3"
  }
 },
 "nbformat": 4,
 "nbformat_minor": 2
}
